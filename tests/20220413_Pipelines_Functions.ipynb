{
 "cells": [
  {
   "cell_type": "code",
   "execution_count": 91,
   "metadata": {},
   "outputs": [],
   "source": [
    "import pandas as pd\n",
    "import json\n",
    "import calendar\n",
    "\n",
    "from datetime import datetime, date, timedelta\n",
    "\n",
    "f = open('../config.json')\n",
    "config = json.load(f)"
   ]
  },
  {
   "cell_type": "code",
   "execution_count": 94,
   "metadata": {},
   "outputs": [],
   "source": [
    "def run_job_bool(\n",
    "      config: json = None\n",
    "    , proj_name: str = None\n",
    "    , minute_window: int = 1\n",
    "    ):\n",
    "    \n",
    "    \"\"\"\n",
    "    Description\n",
    "\n",
    "    Args:\n",
    "\n",
    "    Returns:\n",
    "\n",
    "    \"\"\"\n",
    "    df = pd.json_normalize(config[0][\"Schedules\"][proj_name])\n",
    "    \n",
    "    curr_date = date.today()\n",
    "    dow = calendar.day_name[curr_date.weekday()]\n",
    "\n",
    "    day = df['Day'].values\n",
    "    sched = df['Time'].values\n",
    "    \n",
    "    now = datetime.now()\n",
    "    bot_window = (now-timedelta(minutes=minute_window)).strftime(\"%H:%M:%S\")\n",
    "    top_window = (now+timedelta(minutes=minute_window)).strftime(\"%H:%M:%S\")\n",
    "\n",
    "    if day==dow:\n",
    "        run_today = True\n",
    "    else:\n",
    "        run_today = False\n",
    "\n",
    "    if (bot_window<=sched) & (top_window>=sched):\n",
    "        run_now = True\n",
    "    else:\n",
    "        run_now = False\n",
    "\n",
    "    if (run_now==True) & (run_today==True):\n",
    "        run_job_now = True\n",
    "    else:\n",
    "        run_job_now = False\n",
    "\n",
    "    return run_job_now\n",
    "    #return print(str(day)+\"|\"+str(sched)+' | run_today: '+str(run_today)+' | run_now: '+str(run_now))"
   ]
  },
  {
   "cell_type": "code",
   "execution_count": 95,
   "metadata": {},
   "outputs": [
    {
     "data": {
      "text/plain": [
       "True"
      ]
     },
     "execution_count": 95,
     "metadata": {},
     "output_type": "execute_result"
    }
   ],
   "source": [
    "run_job_bool(config=config\n",
    "    , proj_name='Stonks Data Pipeline'\n",
    "    , minute_window=1\n",
    "    )"
   ]
  }
 ],
 "metadata": {
  "interpreter": {
   "hash": "43607b92c3a7c3b36044aafa8b94d20b3de83f09af576c647fa887fb07d0dc6a"
  },
  "kernelspec": {
   "display_name": "Python 3.10.4 ('pipeline')",
   "language": "python",
   "name": "python3"
  },
  "language_info": {
   "codemirror_mode": {
    "name": "ipython",
    "version": 3
   },
   "file_extension": ".py",
   "mimetype": "text/x-python",
   "name": "python",
   "nbconvert_exporter": "python",
   "pygments_lexer": "ipython3",
   "version": "3.10.4"
  },
  "orig_nbformat": 4
 },
 "nbformat": 4,
 "nbformat_minor": 2
}
